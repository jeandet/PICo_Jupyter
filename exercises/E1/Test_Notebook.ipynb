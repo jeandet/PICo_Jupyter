{
 "cells": [
  {
   "cell_type": "markdown",
   "id": "4ce509a8-e20f-46ce-9bf2-dd26c6944f15",
   "metadata": {},
   "source": [
    "# Simple Python test code"
   ]
  },
  {
   "cell_type": "code",
   "execution_count": null,
   "id": "9ea75788-6dd3-4415-92e9-17398c295c66",
   "metadata": {},
   "outputs": [],
   "source": [
    "print(\"hello from a notebook\")"
   ]
  },
  {
   "cell_type": "code",
   "execution_count": null,
   "id": "20880532-b4bd-446b-bd4e-d364c312fd4f",
   "metadata": {},
   "outputs": [],
   "source": [
    "\"hello from a notebook\""
   ]
  }
 ],
 "metadata": {
  "kernelspec": {
   "display_name": "Python 3 (ipykernel)",
   "language": "python",
   "name": "python3"
  },
  "language_info": {
   "codemirror_mode": {
    "name": "ipython",
    "version": 3
   },
   "file_extension": ".py",
   "mimetype": "text/x-python",
   "name": "python",
   "nbconvert_exporter": "python",
   "pygments_lexer": "ipython3",
   "version": "3.10.4"
  }
 },
 "nbformat": 4,
 "nbformat_minor": 5
}
