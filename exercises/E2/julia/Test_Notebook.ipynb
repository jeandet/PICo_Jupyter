{
 "cells": [
  {
   "cell_type": "markdown",
   "id": "4ce509a8-e20f-46ce-9bf2-dd26c6944f15",
   "metadata": {},
   "source": [
    "# Simple Julia test code"
   ]
  },
  {
   "cell_type": "code",
   "execution_count": null,
   "id": "9ea75788-6dd3-4415-92e9-17398c295c66",
   "metadata": {},
   "outputs": [],
   "source": [
    "1 + 1"
   ]
  },
  {
   "cell_type": "code",
   "execution_count": null,
   "id": "20880532-b4bd-446b-bd4e-d364c312fd4f",
   "metadata": {},
   "outputs": [],
   "source": [
    "println(\"hello from a julia notebook\")"
   ]
  },
  {
   "cell_type": "code",
   "execution_count": null,
   "id": "b9395188-3aaf-4a17-9a91-7650d7d5ab71",
   "metadata": {},
   "outputs": [],
   "source": [
    "\"hello from a julia notebook\""
   ]
  }
 ],
 "metadata": {
  "kernelspec": {
   "display_name": "Julia 1.4.1",
   "language": "julia",
   "name": "julia-1.4"
  },
  "language_info": {
   "file_extension": ".jl",
   "mimetype": "application/julia",
   "name": "julia",
   "version": "1.4.1"
  }
 },
 "nbformat": 4,
 "nbformat_minor": 5
}
