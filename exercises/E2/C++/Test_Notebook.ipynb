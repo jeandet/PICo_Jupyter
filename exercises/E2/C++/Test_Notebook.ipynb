{
 "cells": [
  {
   "cell_type": "markdown",
   "id": "4ce509a8-e20f-46ce-9bf2-dd26c6944f15",
   "metadata": {},
   "source": [
    "# Simple C++ test code"
   ]
  },
  {
   "cell_type": "code",
   "execution_count": null,
   "id": "9ea75788-6dd3-4415-92e9-17398c295c66",
   "metadata": {},
   "outputs": [],
   "source": [
    "1 + 1"
   ]
  },
  {
   "cell_type": "code",
   "execution_count": null,
   "id": "20880532-b4bd-446b-bd4e-d364c312fd4f",
   "metadata": {},
   "outputs": [],
   "source": [
    "#include <iostream>\n",
    "std::cout << \"hello from a C++ notebook\" << std::endl;"
   ]
  },
  {
   "cell_type": "code",
   "execution_count": null,
   "id": "b9395188-3aaf-4a17-9a91-7650d7d5ab71",
   "metadata": {},
   "outputs": [],
   "source": [
    "\"hello from a C++ notebook\""
   ]
  }
 ],
 "metadata": {
  "kernelspec": {
   "display_name": "C++14",
   "language": "C++14",
   "name": "xcpp14"
  },
  "language_info": {
   "codemirror_mode": "text/x-c++src",
   "file_extension": ".cpp",
   "mimetype": "text/x-c++src",
   "name": "c++",
   "version": "14"
  }
 },
 "nbformat": 4,
 "nbformat_minor": 5
}
